{
 "cells": [
  {
   "cell_type": "markdown",
   "id": "lesbian-brooklyn",
   "metadata": {
    "slideshow": {
     "slide_type": "slide"
    }
   },
   "source": [
    "# Card Sorter\n",
    "`code by Guglielmo Grillo`\n",
    "\n",
    "This notebook aims at showing our current progress on the software concerning the _Card Sorter_ for [Fantasia Store](https://fantasiastore.it/it/)."
   ]
  },
  {
   "cell_type": "markdown",
   "id": "incomplete-divide",
   "metadata": {
    "slideshow": {
     "slide_type": "subslide"
    }
   },
   "source": [
    "## Database download\n",
    "\n",
    "We rely on the database [https://mtgjson.com/](https://mtgjson.com/) and download the images from [https://scryfall.com/](https://scryfall.com/) using the unique code provided by the database. This database contains all the main information about all the cards available in various languages and it is periodically updated.\n",
    "\n",
    "<a href=\"https://mtgjson.com/downloads/all-files/\"><img src=\"https://i.ibb.co/prwy3cz/mtgjson.png\" alt=\"mtgjson\" border=\"0\"></a>"
   ]
  },
  {
   "cell_type": "code",
   "execution_count": null,
   "id": "laughing-toner",
   "metadata": {
    "ExecuteTime": {
     "end_time": "2021-04-16T20:55:30.162599Z",
     "start_time": "2021-04-16T20:55:30.148605Z"
    },
    "scrolled": false,
    "slideshow": {
     "slide_type": "skip"
    }
   },
   "outputs": [],
   "source": [
    "import os\n",
    "import json\n",
    "import requests\n",
    "\n",
    "# General Variables\n",
    "url_db = 'https://mtgjson.com/api/v5/AllPrintings.json'\n",
    "saveLocation = './JSONs/AllPrintings.json' # This requires the folder `JSONs` to exist in the same directory as the script\n",
    "force_download = False\n",
    "\n",
    "# Variable used for the image download\n",
    "image_id_wildcard = '${card.identifiers.scryfallId}'\n",
    "image_url = 'https://api.scryfall.com/cards/${card.identifiers.scryfallId}?format=image' #lol"
   ]
  },
  {
   "cell_type": "code",
   "execution_count": null,
   "id": "executed-hierarchy",
   "metadata": {
    "ExecuteTime": {
     "end_time": "2021-04-16T20:55:34.218645Z",
     "start_time": "2021-04-16T20:55:30.163564Z"
    },
    "scrolled": false,
    "slideshow": {
     "slide_type": "subslide"
    }
   },
   "outputs": [],
   "source": [
    "print(\"Current working Directory:\", os.getcwd())\n",
    "\n",
    "# Download database from the site\n",
    "if ( not os.path.isfile(saveLocation) ) or force_download:\n",
    "    print(\"File already downloaded. No download forced\")\n",
    "    r = requests.get(url_db, allow_redirects=True)\n",
    "    open(saveLocation, 'wb').write(r.content);\n",
    "\n",
    "with open(saveLocation, 'r', encoding=\"utf8\") as json_file:\n",
    "  magic_sets = json.load(json_file)\n",
    "  magic_sets = magic_sets['data']\n",
    "    \n",
    "print(\"Loaded file\", saveLocation)\n",
    "print(\"Number of sets available: \", len(magic_sets.keys()))\n",
    "print(magic_sets.keys())"
   ]
  },
  {
   "cell_type": "markdown",
   "id": "opposed-reasoning",
   "metadata": {
    "ExecuteTime": {
     "end_time": "2021-03-29T13:49:28.005837Z",
     "start_time": "2021-03-29T13:49:27.990877Z"
    }
   },
   "source": [
    "## Tesseract Feature test\n",
    "[Tesseract](https://github.com/tesseract-ocr) is an Optical Character Recognition (OCS) software which, after some preprocessing, is able to extract text from images.  \n",
    "We now aim to test its capability to recognize the text in a Magic card.\n",
    "\n",
    "<a href=\"https://github.com/tesseract-ocr/tesseract\"><img src=\"https://i.ibb.co/pwDWYVz/Screenshot-168.png\" alt=\"Tesseract\" border=\"0\"></a>"
   ]
  },
  {
   "cell_type": "code",
   "execution_count": null,
   "id": "black-guide",
   "metadata": {
    "ExecuteTime": {
     "end_time": "2021-04-16T20:55:34.234147Z",
     "start_time": "2021-04-16T20:55:34.219643Z"
    },
    "scrolled": false,
    "slideshow": {
     "slide_type": "skip"
    }
   },
   "outputs": [],
   "source": [
    "# library import and constant definition\n",
    "import matplotlib.pyplot as plt\n",
    "import matplotlib.image as mpimg\n",
    "\n",
    "import numpy as np\n",
    "from skimage.color import rgb2gray\n",
    "\n",
    "import pytesseract\n",
    "\n",
    "import random\n",
    "\n",
    "from pathlib import Path"
   ]
  },
  {
   "cell_type": "code",
   "execution_count": null,
   "id": "coastal-ancient",
   "metadata": {
    "ExecuteTime": {
     "end_time": "2021-04-16T20:55:34.250191Z",
     "start_time": "2021-04-16T20:55:34.235146Z"
    },
    "scrolled": false,
    "slideshow": {
     "slide_type": "skip"
    }
   },
   "outputs": [],
   "source": [
    "# Auxiliary functions\n",
    "def black_over_white(img):\n",
    "    # This function transforms an image into a greyscale and then\n",
    "    # exchange the brightness. This is useful as tesseract works at\n",
    "    # it's best on black text over white background while magic\n",
    "    # cards are light text on dark background.\n",
    "    grayscale = rgb2gray(img)*255\n",
    "    grayscale[850:,:300] = 255*(1-rgb2gray(img[850:,:300]) )\n",
    "    grayscale = grayscale.astype(np.uint8)\n",
    "    return grayscale\n",
    "\n",
    "\n",
    "def display_image(ax, img, grayscale, text):\n",
    "    # This function prints a brief recap\n",
    "    ax[0].imshow(img)\n",
    "    ax[0].set_title(\"Original\")\n",
    "    ax[1].imshow(grayscale, cmap=plt.cm.gray)\n",
    "    ax[1].set_title(\"Black over White\")\n",
    "    ax[2].imshow(255-0*img)\n",
    "    ax[2].text(350, 450, text, ha='center', va='center', fontsize=9)\n",
    "    \n",
    "    \n",
    "def get_card_img(card):\n",
    "    # Funzione principale incaricata di scaricare le carte\n",
    "    filename = \"cards_db/\"+card['setCode'] + \"/\"+ card['rarity'] + \"/\" + card['number'] + \".jpg\"\n",
    "    if not os.path.isfile(filename):\n",
    "        Path(\"cards_db/\"+card['setCode'] + \"/\"+ card['rarity'] + \"/\").mkdir(parents=True, exist_ok=True)\n",
    "\n",
    "        scryfallId = card['identifiers']['scryfallId']\n",
    "\n",
    "        url_img = image_url.replace(image_id_wildcard, scryfallId)\n",
    "        r = requests.get(url_img, allow_redirects=True)\n",
    "        open(filename, 'wb').write(r.content)\n",
    "    \n",
    "    return  mpimg.imread(filename).astype(np.uint8)\n",
    "\n",
    "\n",
    "def pick_random_card():\n",
    "    rnd_ms = random.choice( list(magic_sets.keys()) )\n",
    "    rnd_card = None\n",
    "\n",
    "    while (not rnd_ms) or \\\n",
    "          (magic_sets[rnd_ms]['releaseDate'] < '2015-01-01') or \\\n",
    "           len(magic_sets[rnd_ms]['cards']) == 0:\n",
    "        rnd_ms = random.choice( list(magic_sets.keys()) )\n",
    "    \n",
    "    while not rnd_card:\n",
    "        rnd_card = random.choice(magic_sets[rnd_ms]['cards'])\n",
    "\n",
    "    return rnd_card"
   ]
  },
  {
   "cell_type": "code",
   "execution_count": null,
   "id": "protecting-graduate",
   "metadata": {
    "ExecuteTime": {
     "end_time": "2021-04-16T20:55:36.583067Z",
     "start_time": "2021-04-16T20:55:34.251102Z"
    },
    "scrolled": false,
    "slideshow": {
     "slide_type": "slide"
    }
   },
   "outputs": [],
   "source": [
    "TEST_CASES = 1 # Select the number of test cases to run and display\n",
    "\n",
    "for i in range(TEST_CASES):\n",
    "    fig, ax = plt.subplots(1, 3, figsize=(14, 8), gridspec_kw={'width_ratios': [1, 1, 1]})\n",
    "    \n",
    "    # Pick a random card\n",
    "    rnd_card = pick_random_card()\n",
    "    while not 'paper' in rnd_card['availability']:\n",
    "        rnd_card = pick_random_card()\n",
    "     \n",
    "    img = get_card_img(rnd_card)\n",
    "    \n",
    "    grayscale = black_over_white(img)\n",
    "\n",
    "    tesseract_text = pytesseract.image_to_string(grayscale)\n",
    "    tesseract_text = str.rstrip(tesseract_text)\n",
    "    \n",
    "    display_image(ax, img, grayscale, tesseract_text[:-2])\n",
    "    \n",
    "    ax[2].set_title(\"Extracted text\")\n",
    "\n",
    "fig.tight_layout()\n",
    "plt.show()"
   ]
  },
  {
   "cell_type": "markdown",
   "id": "excited-joyce",
   "metadata": {},
   "source": [
    "## Indexing - Reverse search\n",
    "Now that we can extract text from an image we are going to search corresponding card using the text extracted. To do that we first need to generate an index and a dictionary of the words available.\n",
    "\n",
    "<img src=\"https://dev-to-uploads.s3.amazonaws.com/i/8m6i1jb4oig5ohzdd6mx.png\" alt=\"drawing\" width=\"700\"/>"
   ]
  },
  {
   "cell_type": "markdown",
   "id": "seeing-anger",
   "metadata": {},
   "source": [
    "### Index"
   ]
  },
  {
   "cell_type": "code",
   "execution_count": null,
   "id": "indoor-bathroom",
   "metadata": {
    "ExecuteTime": {
     "end_time": "2021-04-16T20:55:36.876709Z",
     "start_time": "2021-04-16T20:55:36.584065Z"
    },
    "scrolled": false
   },
   "outputs": [],
   "source": [
    "import re\n",
    "\n",
    "# The index is incapsulated in an object so that it's easier to save and load it without\n",
    "# having to recalculate it each time\n",
    "class Index:\n",
    "    def __init__(self):\n",
    "        self.index = {}\n",
    "        self.cards = {}\n",
    "\n",
    "    # Add keyword to the dictionary\n",
    "    def add(self, card, card_id, keywords):\n",
    "        if card_id not in self.cards:\n",
    "            self.cards[card_id] = card\n",
    "\n",
    "        for keyword in keywords:\n",
    "            if len(keyword) > 3:\n",
    "                if keyword not in self.index:\n",
    "                    self.index[keyword] = set()\n",
    "\n",
    "                self.index[keyword].add(card_id)    \n",
    "    \n",
    "    \n",
    "    # Search functions\n",
    "    def _results(self, query):\n",
    "        if isinstance(query, str):\n",
    "            return [self.index.get(query, set())]\n",
    "        else:\n",
    "            return [self.index.get(keyword, set()) for keyword in query]\n",
    "\n",
    "    def search(self, query):\n",
    "        \n",
    "        # Provare a fare il ranking invece che con un punteggio sulle carte singole con\n",
    "        # Il numer di insiemi in cui una parola chiave è presente\n",
    "        results = self._results(query)\n",
    "        cards = [self.cards[card_id] for card_id in set.intersection(*results)]\n",
    "        return cards\n",
    "\n",
    "    \n",
    "    #def rank_serach(query, max_results = 5):\n",
    "    #    result = _results(query);\n",
    "        \n",
    "    #   return results \n",
    "        \n",
    "    \n",
    "    # Utility functions\n",
    "    def standardize_keywords(self, text):\n",
    "        std_text = text.lower()\n",
    "        # 0-9+\\/\n",
    "        std_text = re.sub(r'[^a-z\\s]+', '', std_text) # Regex to remove all non-alphabetic characters\n",
    "        std_text = re.sub(r'\\n', ' ', std_text) # Regex to remove newline characters\n",
    "\n",
    "        keywords = set(std_text.split(' ') )\n",
    "        keywords.discard('')\n",
    "\n",
    "        return keywords\n",
    "    \n",
    "    \n",
    "    def in_dictionary(self, keyword):\n",
    "        if keyword in 'wizards of the coast'+'your mana pool':\n",
    "           return False;\n",
    "        if keyword in self.index.keys():\n",
    "            return True\n",
    "        else:\n",
    "            return False\n",
    "        \n",
    "# Create object\n",
    "index = Index()"
   ]
  },
  {
   "cell_type": "code",
   "execution_count": null,
   "id": "regulated-sunglasses",
   "metadata": {
    "ExecuteTime": {
     "end_time": "2021-04-16T20:55:38.577854Z",
     "start_time": "2021-04-16T20:55:36.878695Z"
    },
    "scrolled": false
   },
   "outputs": [],
   "source": [
    "# Add cards into the database\n",
    "for ms in magic_sets:\n",
    "    for card in magic_sets[ms]['cards']:\n",
    "        if 'paper' in card['availability']:\n",
    "            flavorText = card['flavorText'] if 'flavorText' in card else ''\n",
    "            originalText = card['originalText'] if 'originalText' in card else ''\n",
    "            text = card['text'] if 'text' in card else ''\n",
    "            name = card['name'] if 'name' in card else ''\n",
    "            flavorName = card['flavorName'] if 'flavorName' in card else ''\n",
    "            card_type = card['type'] if 'type' in card else '' \n",
    "            artist = card['artist'] if 'artist' in card else ''\n",
    "\n",
    "            all_text = flavorText+' '+ originalText+' '+ text+' '+ name+' '+\\\n",
    "                       flavorName+' '+ card_type + ' '+ artist;\n",
    "            keywords = index.standardize_keywords(all_text)\n",
    "            \n",
    "            card_id = ms+'-'+card['number']\n",
    "            \n",
    "            index.add(card, card_id, keywords)"
   ]
  },
  {
   "cell_type": "code",
   "execution_count": null,
   "id": "hungry-explosion",
   "metadata": {
    "ExecuteTime": {
     "end_time": "2021-04-16T20:55:38.593116Z",
     "start_time": "2021-04-16T20:55:38.579834Z"
    },
    "scrolled": false
   },
   "outputs": [],
   "source": [
    "keywords = index.standardize_keywords(tesseract_text) \n",
    "for kwd in keywords.copy():\n",
    "    if not index.in_dictionary(kwd):\n",
    "        keywords.discard(kwd)\n",
    "\n",
    "print(\"Keywords found: \", keywords, \"\\n\")\n",
    "\n",
    "res = index.search(keywords)\n",
    "\n",
    "\n",
    "# Necessità di rimuovere due o più parole chiave\n",
    "i = 0\n",
    "while len(res) == 0:\n",
    "    key_list = list(keywords)\n",
    "    to_remove = key_list[i]\n",
    "    key_list.remove( to_remove )\n",
    "    res = index.search( key_list )\n",
    "    i += 1\n",
    "    if i == len(key_list)+1:\n",
    "        break\n",
    "    \n",
    "\n",
    "if i > 0 and len(res) > 0:\n",
    "    print(\"REMOVED WORD --> \",to_remove)\n",
    "elif i>0:\n",
    "    print(\"No match found\")\n",
    "\n",
    "print(\"Number of occurence found: \", len(res))\n",
    "for i, r in enumerate(res):\n",
    "    print(\"\\n\\n------------------------------ Occurence \", str(i+1), \"------------------------------\\n\")\n",
    "    print(\"Name:\", r['name'])\n",
    "    print(\"Set code:\", r['setCode'])\n",
    "    print(\"Rarity:\", r['rarity'])\n",
    "    print(\"Unique entries:\")\n",
    "    \n",
    "    for entry in r:\n",
    "        if not entry in ['foreignData', 'identifiers', 'uuid', 'variations']:\n",
    "            unique = True\n",
    "\n",
    "            for r2 in res:\n",
    "                if not r == r2:\n",
    "                    if (entry in r2) and (r[entry] == r2[entry]):\n",
    "                        unique = False\n",
    "            if unique:\n",
    "                print(\"\\t\",entry, \":\", r[entry])"
   ]
  },
  {
   "cell_type": "code",
   "execution_count": null,
   "id": "closing-suicide",
   "metadata": {
    "ExecuteTime": {
     "end_time": "2021-04-16T20:55:38.608869Z",
     "start_time": "2021-04-16T20:55:38.594088Z"
    },
    "scrolled": false
   },
   "outputs": [],
   "source": [
    "for i, r in enumerate(res):\n",
    "    print(\"\\n\\n------------------------------ Occurence \", str(i+1), \"------------------------------\\n\")\n",
    "    print(r)"
   ]
  },
  {
   "cell_type": "markdown",
   "id": "broken-mills",
   "metadata": {},
   "source": [
    "## Known issue\n",
    "\n",
    "### Wrong reads from tesseract\n",
    "\n",
    "Sometimes Tesseract reads words that aren't in the card but present in the database.\n",
    "\n",
    "<img src=\"https://i.ibb.co/QjFxVdY/download-3.png\" alt=\"download-3\" border=\"0\">\n",
    "<img src=\"https://i.ibb.co/X3Xsm8s/Screenshot-169.png\" alt=\"Screenshot-169\" border=\"0\">\n",
    "\n",
    "Solution: rank results instead of looking for an exact matches.\n",
    "\n",
    "### Lands do no have much text on it\n",
    "<img src=\"https://i.ibb.co/h2xbwRv/download-4.png\" alt=\"download-4\" border=\"0\">\n",
    "<img src=\"https://i.ibb.co/1Q9ddqd/Screenshot-170.png\" alt=\"Screenshot-170\" border=\"0\">\n",
    "\n",
    "Possible solutions:\n",
    "- Categorize all the cards with few words as generic lands\n",
    "- Search for patterns in the image (like the land symbols)\n",
    "\n",
    "### Some cards do not have latin characters on it\n",
    "<a href=\"https://ibb.co/1Rqyggs\"><img src=\"https://i.ibb.co/XFs0QQy/download.png\" alt=\"download\" border=\"0\"></a>\n",
    "Possible solution:\n",
    "- They are uncommon in Italy so ask to a real person is a strategy\n",
    "- Look for the code in the bottom left corner and the artist\n"
   ]
  }
 ],
 "metadata": {
  "kernelspec": {
   "display_name": "Python 3",
   "language": "python",
   "name": "python3"
  },
  "language_info": {
   "codemirror_mode": {
    "name": "ipython",
    "version": 3
   },
   "file_extension": ".py",
   "mimetype": "text/x-python",
   "name": "python",
   "nbconvert_exporter": "python",
   "pygments_lexer": "ipython3",
   "version": "3.13.2"
  },
  "latex_envs": {
   "LaTeX_envs_menu_present": true,
   "autoclose": false,
   "autocomplete": true,
   "bibliofile": "biblio.bib",
   "cite_by": "apalike",
   "current_citInitial": 1,
   "eqLabelWithNumbers": true,
   "eqNumInitial": 1,
   "hotkeys": {
    "equation": "Ctrl-E",
    "itemize": "Ctrl-I"
   },
   "labels_anchors": false,
   "latex_user_defs": false,
   "report_style_numbering": false,
   "user_envs_cfg": false
  },
  "varInspector": {
   "cols": {
    "lenName": 16,
    "lenType": 16,
    "lenVar": 40
   },
   "kernels_config": {
    "python": {
     "delete_cmd_postfix": "",
     "delete_cmd_prefix": "del ",
     "library": "var_list.py",
     "varRefreshCmd": "print(var_dic_list())"
    },
    "r": {
     "delete_cmd_postfix": ") ",
     "delete_cmd_prefix": "rm(",
     "library": "var_list.r",
     "varRefreshCmd": "cat(var_dic_list()) "
    }
   },
   "position": {
    "height": "628.4px",
    "left": "1161px",
    "right": "20px",
    "top": "115px",
    "width": "350px"
   },
   "types_to_exclude": [
    "module",
    "function",
    "builtin_function_or_method",
    "instance",
    "_Feature"
   ],
   "window_display": false
  }
 },
 "nbformat": 4,
 "nbformat_minor": 5
}
